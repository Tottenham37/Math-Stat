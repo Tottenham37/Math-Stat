{
 "cells": [
  {
   "cell_type": "code",
   "execution_count": 3,
   "id": "fc0f304f",
   "metadata": {},
   "outputs": [],
   "source": [
    "import matplotlib.pyplot as plt\n",
    "import numpy as np\n",
    "import scipy.stats as sps\n",
    "from scipy.stats import pareto\n",
    "import math \n",
    "import statistics \n",
    "from scipy.integrate import quad\n",
    "from sklearn import preprocessing\n",
    "import seaborn as sns"
   ]
  },
  {
   "cell_type": "code",
   "execution_count": 4,
   "id": "12335979",
   "metadata": {},
   "outputs": [],
   "source": [
    "def teta_est(x):\n",
    "    return n/sum(np.log(x)) + 1"
   ]
  },
  {
   "cell_type": "code",
   "execution_count": 5,
   "id": "04cc6aa7",
   "metadata": {},
   "outputs": [],
   "source": [
    "n = 100\n",
    "teta = 5"
   ]
  },
  {
   "cell_type": "code",
   "execution_count": 6,
   "id": "a67256a3",
   "metadata": {},
   "outputs": [],
   "source": [
    "x = pareto.rvs(b=teta-1, size=n)"
   ]
  },
  {
   "cell_type": "code",
   "execution_count": 7,
   "id": "ad0aed6a",
   "metadata": {},
   "outputs": [
    {
     "data": {
      "text/plain": [
       "5.356339027934849"
      ]
     },
     "execution_count": 7,
     "metadata": {},
     "output_type": "execute_result"
    }
   ],
   "source": [
    "teta_e = teta_est(x)\n",
    "teta_e"
   ]
  },
  {
   "cell_type": "markdown",
   "id": "315bf45c",
   "metadata": {},
   "source": [
    "# Доверительный интервал"
   ]
  },
  {
   "cell_type": "markdown",
   "id": "a02419ee",
   "metadata": {},
   "source": [
    "## Доверительный интервал для медианы"
   ]
  },
  {
   "cell_type": "code",
   "execution_count": 8,
   "id": "a0c48ce9",
   "metadata": {},
   "outputs": [],
   "source": [
    "med_b1 = 2**(1/(teta_e-1)) - 1.96*2**(1/(teta_e-1))*np.log(2)/((teta_e-1)*n**0.5)\n",
    "med_b2 = 2**(1/(teta_e-1)) + 1.96*2**(1/(teta_e-1))*np.log(2)/((teta_e-1)*n**0.5)"
   ]
  },
  {
   "cell_type": "code",
   "execution_count": 9,
   "id": "ef0edf09",
   "metadata": {},
   "outputs": [
    {
     "name": "stdout",
     "output_type": "stream",
     "text": [
      "interval for median: (1.1359049698935182, 1.2090342767084803) real median: 1.1842385461468945\n"
     ]
    }
   ],
   "source": [
    "print(f'interval for median: ({med_b1}, {med_b2}) real median: {statistics.median(x)}')"
   ]
  },
  {
   "cell_type": "markdown",
   "id": "1b9f0507",
   "metadata": {},
   "source": [
    "## Асимптотический доверительный интервал"
   ]
  },
  {
   "cell_type": "code",
   "execution_count": 10,
   "id": "fd4fb2fe",
   "metadata": {},
   "outputs": [],
   "source": [
    "as_b1 = teta_e - 1.96*(teta_e - 1)/(n**0.5)\n",
    "as_b2 = teta_e + 1.96*(teta_e - 1)/(n**0.5)"
   ]
  },
  {
   "cell_type": "code",
   "execution_count": 11,
   "id": "bed1a35a",
   "metadata": {},
   "outputs": [
    {
     "name": "stdout",
     "output_type": "stream",
     "text": [
      "interval for theta: (4.502496578459619, 6.21018147741008) real theta: 5\n"
     ]
    }
   ],
   "source": [
    "print(f'interval for theta: ({as_b1}, {as_b2}) real theta: {teta}')"
   ]
  },
  {
   "cell_type": "markdown",
   "id": "b5175462",
   "metadata": {},
   "source": [
    "## Bootstrap "
   ]
  },
  {
   "cell_type": "code",
   "execution_count": 12,
   "id": "0e6b0489",
   "metadata": {},
   "outputs": [],
   "source": [
    "delta = np.array([])\n",
    "teta_boot = np.array([])\n",
    "\n",
    "for i in range(0,1000):\n",
    "    bootstrap = np.random.choice(x, size = x.shape[0]).round(2) \n",
    "    delta = np.append(delta, teta_est(bootstrap) - teta_e)\n",
    "    teta_boot = np.append(teta_boot, teta_est(bootstrap))\n",
    "    \n",
    "\n",
    "delta.sort() \n",
    "b1_boot, b2_boot = teta_e - delta[974], teta_e - delta[24] #better if i use 0.974 shape of delta"
   ]
  },
  {
   "cell_type": "code",
   "execution_count": 13,
   "id": "82d60863",
   "metadata": {},
   "outputs": [
    {
     "name": "stdout",
     "output_type": "stream",
     "text": [
      "bootstrap interval for theta : (4.4314483796554835, 6.040076299422471) real theta: 5\n"
     ]
    }
   ],
   "source": [
    "print(f'bootstrap interval for theta : ({b1_boot}, {b2_boot}) real theta: {teta}')"
   ]
  },
  {
   "cell_type": "markdown",
   "id": "f1b8fb7a",
   "metadata": {},
   "source": [
    "## Parametric Bootstrap"
   ]
  },
  {
   "cell_type": "code",
   "execution_count": 14,
   "id": "6158fe98",
   "metadata": {},
   "outputs": [],
   "source": [
    "delta_par = np.array([])\n",
    "\n",
    "for i in range(50000):\n",
    "    bootstrap_par = pareto.rvs(b = teta-1, size=n)\n",
    "    delta_par = np.append(delta_par, teta_est(bootstrap_par) - teta_e)\n",
    "\n",
    "delta_par.sort() \n",
    "b1_boot_par, b2_boot_par = teta_e - delta_par[int(delta_par.shape[0]*0.974)], teta_e - delta_par[int(delta_par.shape[0]*0.024)]"
   ]
  },
  {
   "cell_type": "code",
   "execution_count": 15,
   "id": "f2e96a69",
   "metadata": {},
   "outputs": [
    {
     "name": "stdout",
     "output_type": "stream",
     "text": [
      "parametric bootstrap interval for theta : (4.8044696873343264, 6.398406118767919) real theta: 5\n"
     ]
    }
   ],
   "source": [
    "print(f'parametric bootstrap interval for theta : ({b1_boot_par}, {b2_boot_par}) real theta: {teta}')"
   ]
  },
  {
   "cell_type": "code",
   "execution_count": 25,
   "id": "65576417",
   "metadata": {},
   "outputs": [
    {
     "data": {
      "text/plain": [
       "<matplotlib.legend.Legend at 0x281484090>"
      ]
     },
     "execution_count": 25,
     "metadata": {},
     "output_type": "execute_result"
    },
    {
     "data": {
      "image/png": "[encoded data removed]",
      "text/plain": [
       "<Figure size 800x500 with 1 Axes>"
      ]
     },
     "metadata": {},
     "output_type": "display_data"
    }
   ],
   "source": [
    "fig, ax = plt.subplots(figsize=(8,5))\n",
    "\n",
    "ax.plot([b1_boot, b2_boot], [-1.5, -1.5], label = 'Bootstrap')\n",
    "ax.plot([b1_boot_par, b2_boot_par], [-0.5, -0.5], label = 'Param Bootstrap')\n",
    "ax.plot([as_b1, as_b2], [-1, -1], label = 'Asympt OPM')\n",
    "\n",
    "ax.plot([teta, teta], [-2.5,-0.1], label = 'Real θ', color = \"MediumPurple\")\n",
    "\n",
    "sns.histplot(teta_boot, ax = ax, bins = n, color = 'MediumPurple', stat = 'density')\n",
    "\n",
    "ax.set_title('Интервалы')    \n",
    "\n",
    "ax.set_xlabel('θ interval')\n",
    "\n",
    "ax.legend(loc = 'best')"
   ]
  },
  {
   "cell_type": "code",
   "execution_count": null,
   "id": "785cb15b",
   "metadata": {},
   "outputs": [],
   "source": []
  }
 ],
 "metadata": {
  "kernelspec": {
   "display_name": "Python 3 (ipykernel)",
   "language": "python",
   "name": "python3"
  },
  "language_info": {
   "codemirror_mode": {
    "name": "ipython",
    "version": 3
   },
   "file_extension": ".py",
   "mimetype": "text/x-python",
   "name": "python",
   "nbconvert_exporter": "python",
   "pygments_lexer": "ipython3",
   "version": "3.11.5"
  }
 },
 "nbformat": 4,
 "nbformat_minor": 5
}
