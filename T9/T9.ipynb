{
 "cells": [
  {
   "cell_type": "code",
   "execution_count": 1,
   "id": "ba6ab643",
   "metadata": {},
   "outputs": [],
   "source": [
    "import matplotlib.pyplot as plt\n",
    "import numpy as np\n",
    "import scipy.stats as sps\n",
    "from scipy import stats\n",
    "import math \n",
    "import statistics \n",
    "from scipy.integrate import quad\n",
    "from sklearn import preprocessing\n",
    "import seaborn as sns\n",
    "from scipy.stats import chi2"
   ]
  },
  {
   "cell_type": "code",
   "execution_count": 64,
   "id": "1582a97d",
   "metadata": {},
   "outputs": [],
   "source": [
    "x = np.array([5,8,6,12,14,18,11,6,13,7])\n",
    "N = 100\n",
    "#x_arr = np.array([[i]*x[i] for i in range(0, 10)])"
   ]
  },
  {
   "cell_type": "code",
   "execution_count": 65,
   "id": "845e1a39",
   "metadata": {},
   "outputs": [],
   "source": [
    "#x_arr"
   ]
  },
  {
   "cell_type": "code",
   "execution_count": 66,
   "id": "1af9f779",
   "metadata": {},
   "outputs": [],
   "source": [
    "x_arr = np.array([0, 0, 0, 0, 0, 1, 1, 1, 1, 1, 1, 1, 1, 2, 2, 2, 2, 2, 2, 3, 3, 3, 3, 3, 3, 3, 3, 3, 3, 3, 3, \n",
    "                 4, 4, 4, 4, 4, 4, 4, 4, 4, 4, 4, 4, 4, 4, 5, 5, 5, 5, 5, 5, 5, 5, 5, 5, 5, 5, 5, 5, 5, 5, 5, 5,\n",
    "                 6, 6, 6, 6, 6, 6, 6, 6, 6, 6, 6, 7, 7, 7, 7, 7, 7,\n",
    "                 8, 8, 8, 8, 8, 8, 8, 8, 8, 8, 8, 8, 8, 9, 9, 9, 9, 9, 9, 9])"
   ]
  },
  {
   "cell_type": "markdown",
   "id": "f7f9a206",
   "metadata": {},
   "source": [
    "## a"
   ]
  },
  {
   "cell_type": "code",
   "execution_count": 76,
   "id": "ab7185fd",
   "metadata": {},
   "outputs": [
    {
     "data": {
      "image/png": "[encoded data removed]",
      "text/plain": [
       "<Figure size 640x480 with 1 Axes>"
      ]
     },
     "metadata": {},
     "output_type": "display_data"
    }
   ],
   "source": [
    "def plot_ecdf(values, xlim):\n",
    "    \"\"\"Построить график ЭФР.\"\"\"\n",
    "    X_ = sorted(set(values))\n",
    "    Y_ = [np.mean(values < x) for x in X_]\n",
    "    X = sum([[v, v] for v in X_], [])\n",
    "    Y = sum([[v, v] for v in Y_], [])\n",
    "    Y = Y[1:]+[1]\n",
    "    plt.plot(X, Y)\n",
    "    return Y\n",
    "\n",
    "# Генерируем данные  и строим ЭФР\n",
    "Y_ecdf = plot_ecdf(x_arr, [0, 9])\n",
    "\n",
    "# Строим ФР\n",
    "X = np.arange(0, 10)\n",
    "Y = stats.uniform.cdf(X, loc = 0, scale = 9)\n",
    "plt.plot(X, Y, '--', color='k', label='ФР')\n",
    "\n",
    "plt.title('ФР и ЭФР стандартного равномерного распределения')\n",
    "plt.legend()\n",
    "plt.show()"
   ]
  },
  {
   "cell_type": "code",
   "execution_count": 75,
   "id": "451d5eae",
   "metadata": {},
   "outputs": [
    {
     "data": {
      "text/plain": [
       "1.4000000000000001"
      ]
     },
     "execution_count": 75,
     "metadata": {},
     "output_type": "execute_result"
    }
   ],
   "source": [
    "delta_ = max(abs(Y.repeat(2)-Y_ecdf))*100**0.5\n",
    "delta_ "
   ]
  },
  {
   "cell_type": "code",
   "execution_count": 7,
   "id": "e3022528",
   "metadata": {},
   "outputs": [
    {
     "name": "stdout",
     "output_type": "stream",
     "text": [
      "p_value = 0.032852176636945195\n"
     ]
    }
   ],
   "source": [
    "p_value = 0\n",
    "for i in range(1,1000):\n",
    "    p_value += -2*(-1**i)*np.exp(-2*i**2*delta_**2)\n",
    "print(f\"p_value = {p_value}\")"
   ]
  },
  {
   "cell_type": "markdown",
   "id": "2a48924d",
   "metadata": {},
   "source": [
    "## b"
   ]
  },
  {
   "cell_type": "code",
   "execution_count": 7,
   "id": "24c12316",
   "metadata": {},
   "outputs": [],
   "source": [
    "limits = np.array(-np.inf)\n",
    "limits = np.append(limits, np.arange(0.5, 9, 1))\n",
    "limits = np.append(limits, np.inf)"
   ]
  },
  {
   "cell_type": "code",
   "execution_count": 9,
   "id": "bfa346ab",
   "metadata": {},
   "outputs": [],
   "source": [
    "def integrand(x, sigma, m):\n",
    "    return 1/np.sqrt(2*np.pi*sigma**2)*np.exp(-(x-m)**2/(2*sigma**2)) #a*x**2 + b\n",
    "#I = quad(integrand, 0, 1, args=(a,b))"
   ]
  },
  {
   "cell_type": "code",
   "execution_count": 10,
   "id": "19025095",
   "metadata": {},
   "outputs": [],
   "source": [
    "def best_param(x):\n",
    "    maxim = 0 \n",
    "    sigma_ = 0\n",
    "    m_ = 0\n",
    "    for sigma in np.arange(2, 3, 0.1):\n",
    "        for m in np.arange(3, 5, 0.1):\n",
    "            L = 1 \n",
    "            for i in range(0, len(limits)-1, ):\n",
    "                L *= quad(integrand, limits[i], limits[i+1], args = (sigma, m))[0]**x[i]\n",
    "            if (L > maxim):\n",
    "                maxim, sigma_, m_ = L, sigma, m\n",
    "    return sigma_, m_"
   ]
  },
  {
   "cell_type": "code",
   "execution_count": 55,
   "id": "e6528d1a",
   "metadata": {},
   "outputs": [
    {
     "name": "stdout",
     "output_type": "stream",
     "text": [
      "2.7000000000000006 4.800000000000002\n"
     ]
    }
   ],
   "source": [
    "sigma_, m_ = best_param(x)\n",
    "print(sigma_, m_)        "
   ]
  },
  {
   "cell_type": "code",
   "execution_count": 101,
   "id": "9955281d",
   "metadata": {},
   "outputs": [],
   "source": [
    "probabilities = np.array([quad(integrand, limits[i], limits[i+1], args = (sigma_, m_))[0] for i in range(0, len(limits)-1)])"
   ]
  },
  {
   "cell_type": "code",
   "execution_count": 102,
   "id": "b7c5ec38",
   "metadata": {},
   "outputs": [
    {
     "data": {
      "text/plain": [
       "array([0.05562581, 0.05518599, 0.08633636, 0.11793901, 0.14067695,\n",
       "       0.14651828, 0.13324914, 0.10581321, 0.0733696 , 0.08528566])"
      ]
     },
     "execution_count": 102,
     "metadata": {},
     "output_type": "execute_result"
    }
   ],
   "source": [
    "probabilities "
   ]
  },
  {
   "cell_type": "code",
   "execution_count": 103,
   "id": "b8d605af",
   "metadata": {},
   "outputs": [],
   "source": [
    "delta_b = 0\n",
    "for i in range(len(x)):\n",
    "    delta_b += (x[i]-N*probabilities[i])**2/(N*probabilities[i])"
   ]
  },
  {
   "cell_type": "code",
   "execution_count": 104,
   "id": "dda4c0e6",
   "metadata": {},
   "outputs": [
    {
     "name": "stdout",
     "output_type": "stream",
     "text": [
      "delta in X^2 = 9.779231990914937\n"
     ]
    }
   ],
   "source": [
    "print(f\"delta in X^2 = {delta_b}\")"
   ]
  },
  {
   "cell_type": "markdown",
   "id": "67fc44c3",
   "metadata": {},
   "source": [
    "## b Kolmogorov"
   ]
  },
  {
   "cell_type": "code",
   "execution_count": 60,
   "id": "d567714f",
   "metadata": {},
   "outputs": [],
   "source": [
    "arr_f = np.array([])\n",
    "for i in range(0,10):\n",
    "    arr_f =  np.append(arr_f, quad(integrand, -np.inf, i, args = (sigma_, m_))[0])"
   ]
  },
  {
   "cell_type": "code",
   "execution_count": 61,
   "id": "469cf46e",
   "metadata": {},
   "outputs": [
    {
     "name": "stdout",
     "output_type": "stream",
     "text": [
      "basic delta in Kolmogorov = 1.0047572223260304\n"
     ]
    }
   ],
   "source": [
    "delta_b_kol = max(abs(arr_f.repeat(2) - Y_ecdf))*np.sqrt(N)\n",
    "print(f\"basic delta in Kolmogorov = {delta_b_kol}\")"
   ]
  },
  {
   "cell_type": "code",
   "execution_count": 62,
   "id": "ec92eaa8",
   "metadata": {},
   "outputs": [
    {
     "data": {
      "image/png": "[encoded data removed]",
      "text/plain": [
       "<Figure size 640x480 with 1 Axes>"
      ]
     },
     "metadata": {},
     "output_type": "display_data"
    }
   ],
   "source": [
    "plot_ecdf(x_arr,[0,9])\n",
    "plt.plot(np.arange(0,10), arr_f)\n",
    "plt.title('ФР и ЭФР стандартного Нормального распределения')\n",
    "plt.show() "
   ]
  },
  {
   "cell_type": "code",
   "execution_count": 65,
   "id": "313143c6",
   "metadata": {},
   "outputs": [
    {
     "name": "stdout",
     "output_type": "stream",
     "text": [
      "0\n",
      "1000\n",
      "2000\n",
      "3000\n",
      "4000\n",
      "5000\n",
      "6000\n",
      "7000\n",
      "8000\n",
      "9000\n",
      "CPU times: total: 53min 28s\n",
      "Wall time: 53min 30s\n"
     ]
    }
   ],
   "source": [
    "%%time\n",
    "\n",
    "delta_arr = np.array([])\n",
    "for i in range(0, 10000):\n",
    "    if not i%1000:\n",
    "        print(i)\n",
    "    bootstrap = np.sort(np.random.normal(m_, sigma_, N).astype(int)) #in parametric bootstrap we generate based on the law of distribution\n",
    "    count = np.array([])\n",
    "    for i in [0,1,2,3,4,5,6,7,8,9]: # there may not be a number in bootstrap\n",
    "        count = np.append(count, sum(bootstrap == i)) \n",
    "    sigma_i, m_i = best_param(count)\n",
    "    arr_f = np.array([])\n",
    "    for j in range(0,10):\n",
    "        arr_f =  np.append(arr_f, quad(integrand, -np.inf, j, args = (sigma_i, m_i))[0])\n",
    "    delta_arr = np.append(delta_arr, max(abs(arr_f.repeat(2) - Y_ecdf))*np.sqrt(N))"
   ]
  },
  {
   "cell_type": "code",
   "execution_count": 67,
   "id": "5475a025",
   "metadata": {},
   "outputs": [],
   "source": [
    "delta_arr.sort()  "
   ]
  },
  {
   "cell_type": "code",
   "execution_count": 85,
   "id": "ceb1ae3b",
   "metadata": {},
   "outputs": [
    {
     "name": "stdout",
     "output_type": "stream",
     "text": [
      "p_value by Kolmogorov and parametric_bootstrap = 0.8602\n"
     ]
    }
   ],
   "source": [
    "k_ = sum(delta_arr < delta_b_kol)\n",
    "k_ += 1\n",
    "\n",
    "p_value_b_kol = 1 - (k_ - 1)/10000\n",
    "print(f\"p_value by Kolmogorov and parametric_bootstrap = {p_value_b_kol}\")"
   ]
  },
  {
   "cell_type": "markdown",
   "id": "abe7648e",
   "metadata": {},
   "source": [
    "## Значит нет оснований отвергнуть основную гипотезу о согласии данных с законом нормального распределения"
   ]
  },
  {
   "cell_type": "markdown",
   "id": "21411e7e",
   "metadata": {},
   "source": [
    "## c "
   ]
  },
  {
   "cell_type": "code",
   "execution_count": 153,
   "id": "aa72807d",
   "metadata": {},
   "outputs": [],
   "source": [
    "a1 = np.mean(x_arr)\n",
    "a2 = np.mean(x_arr**2) \n",
    "m_c = a1\n",
    "sigma_c = (a2 - a1**2)**0.5"
   ]
  },
  {
   "cell_type": "code",
   "execution_count": 154,
   "id": "2d8b45a4",
   "metadata": {},
   "outputs": [],
   "source": [
    "probabilities_c = np.array([quad(integrand, limits[i], limits[i+1], args = (sigma_c, m_c))[0] for i in range(0, len(limits)-1)])"
   ]
  },
  {
   "cell_type": "code",
   "execution_count": 155,
   "id": "eef2f70e",
   "metadata": {},
   "outputs": [
    {
     "data": {
      "text/plain": [
       "10.79897314050092"
      ]
     },
     "execution_count": 155,
     "metadata": {},
     "output_type": "execute_result"
    }
   ],
   "source": [
    "delta_c = 0\n",
    "for i in range(len(x)):\n",
    "    delta_c += (x[i] - probabilities_c[i]*100)**2/(100*probabilities_c[i])\n",
    "delta_c"
   ]
  },
  {
   "cell_type": "code",
   "execution_count": 156,
   "id": "3ef592bc",
   "metadata": {},
   "outputs": [
    {
     "data": {
      "text/plain": [
       "array([-inf,  0.5,  1.5,  2.5,  3.5,  4.5,  5.5,  6.5,  7.5,  8.5,  inf])"
      ]
     },
     "execution_count": 156,
     "metadata": {},
     "output_type": "execute_result"
    }
   ],
   "source": [
    "limits"
   ]
  },
  {
   "cell_type": "code",
   "execution_count": 160,
   "id": "e5bc6c4e",
   "metadata": {},
   "outputs": [
    {
     "data": {
      "text/plain": [
       "array([ 0,  5,  0,  2,  7,  6,  2,  4,  5,  0,  4,  3, 10,  6,  8,  6,  5,\n",
       "        8,  4,  5,  3,  5,  1,  2,  5,  0,  3,  7,  2,  3,  3, 11,  0,  4,\n",
       "        8,  0,  6,  5,  4,  1,  7,  1,  6,  2,  0,  2,  6,  2,  4,  3,  6,\n",
       "        6,  6,  4,  6,  3,  4,  7,  7,  6,  3,  2,  3, -1,  9,  4,  5,  1,\n",
       "        5,  9,  4,  4,  2,  3,  4,  3,  2,  4,  6,  7,  2,  2,  4,  4,  3,\n",
       "        3,  8,  9,  5,  4,  2,  3,  1,  0,  4,  1,  2,  5,  3,  1])"
      ]
     },
     "execution_count": 160,
     "metadata": {},
     "output_type": "execute_result"
    }
   ],
   "source": [
    "np.random.normal(m_c, sigma_c, N).astype(int)"
   ]
  },
  {
   "cell_type": "code",
   "execution_count": 162,
   "id": "693c57c0",
   "metadata": {},
   "outputs": [],
   "source": [
    "delta_arr_c = np.array([])\n",
    "\n",
    "for i in range(0, 50000):\n",
    "    \n",
    "    bootstrap = np.sort(np.random.normal(m_c, sigma_c, N).astype(int))\n",
    "    count = np.array([])\n",
    "    for j in [0,1,2,3,4,5,6,7,8,9]: # there may not be a number in bootstrap\n",
    "        count = np.append(count, sum(bootstrap == j)) \n",
    "        \n",
    "    delta_i = 0\n",
    "    m_i = np.mean(bootstrap)\n",
    "    sigma_i = (np.mean(bootstrap**2) - m_i**2)**0.5\n",
    "    \n",
    "    probabilities_i = np.array([quad(integrand, limits[k], limits[k+1], args = (sigma_i, m_i))[0] for k in range(0, len(limits)-1)])\n",
    "    for j in range(0,10):\n",
    "        delta_i +=  (count[j] - probabilities_i[j]*100)**2/(100*probabilities_i[j])\n",
    "    delta_arr_c = np.append(delta_arr_c, delta_i)"
   ]
  },
  {
   "cell_type": "code",
   "execution_count": 163,
   "id": "67ee0163",
   "metadata": {},
   "outputs": [],
   "source": [
    "delta_arr_c.sort()"
   ]
  },
  {
   "cell_type": "code",
   "execution_count": 164,
   "id": "34421b3e",
   "metadata": {},
   "outputs": [
    {
     "data": {
      "text/plain": [
       "array([ 0.3816671 ,  0.46347111,  0.47674934, ..., 30.97750088,\n",
       "       31.61371131, 35.43737606])"
      ]
     },
     "execution_count": 164,
     "metadata": {},
     "output_type": "execute_result"
    }
   ],
   "source": [
    "#delta_arr_c*=1.3**3\n",
    "delta_arr_c"
   ]
  },
  {
   "cell_type": "code",
   "execution_count": 165,
   "id": "c6ce576c",
   "metadata": {},
   "outputs": [
    {
     "data": {
      "text/plain": [
       "[<matplotlib.lines.Line2D at 0x13cb54df700>]"
      ]
     },
     "execution_count": 165,
     "metadata": {},
     "output_type": "execute_result"
    },
    {
     "data": {
      "image/png": "[encoded data removed]",
      "text/plain": [
       "<Figure size 640x480 with 1 Axes>"
      ]
     },
     "metadata": {},
     "output_type": "display_data"
    }
   ],
   "source": [
    "plt.plot(delta_arr_c)"
   ]
  },
  {
   "cell_type": "code",
   "execution_count": 166,
   "id": "e8fcb724",
   "metadata": {},
   "outputs": [
    {
     "name": "stdout",
     "output_type": "stream",
     "text": [
      "p_value and parametric_bootstrap = 0.20964000000000005\n"
     ]
    }
   ],
   "source": [
    "k_c = sum(delta_arr_c < delta_c)\n",
    "k_c += 1\n",
    "\n",
    "p_value_c = 1 - (k_c - 1)/50000\n",
    "print(f\"p_value and parametric_bootstrap = {p_value_c}\")"
   ]
  },
  {
   "cell_type": "code",
   "execution_count": 167,
   "id": "99e672a3",
   "metadata": {},
   "outputs": [
    {
     "data": {
      "text/plain": [
       "(4.77, 2.5054141374231933)"
      ]
     },
     "execution_count": 167,
     "metadata": {},
     "output_type": "execute_result"
    }
   ],
   "source": [
    "m_c, sigma_c"
   ]
  },
  {
   "cell_type": "markdown",
   "id": "8f5fda1b",
   "metadata": {},
   "source": [
    "## Значит нет оснований отвергнуть основную гипотезу о согласии данных с законом нормального распределения (параметры распределения получены методом максимального правдоподобия по групированной выборке)"
   ]
  },
  {
   "cell_type": "markdown",
   "id": "c3f19dd7",
   "metadata": {},
   "source": [
    "## Сравнение\n",
    "$$\n",
    "\\chi^2(k-1)\\\\\n",
    "\\chi^2(k-3)\\\\\n",
    "N()\\\\\n",
    "$$"
   ]
  },
  {
   "cell_type": "code",
   "execution_count": 168,
   "id": "d88fc0be",
   "metadata": {},
   "outputs": [],
   "source": [
    "def integrand_Xi(x, k):\n",
    "    return (x**(k/2-1))*np.exp(-x/2)/(2**(k/2)*math.gamma(k/2))"
   ]
  },
  {
   "cell_type": "code",
   "execution_count": 169,
   "id": "670f6887",
   "metadata": {},
   "outputs": [],
   "source": [
    "arr_f_с = np.array([])\n",
    "arr_f_x9 = np.array([]) #(10-1)\n",
    "arr_f_x7 = np.array([]) #(10-3) k= 10\n",
    "for i in range(0,20):\n",
    "    #arr_f_с =  np.append(arr_f_с, quad(integrand, -np.inf, i, args = (sigma_c, m_c))[0])\n",
    "    arr_f_с =  np.append(arr_f_с, sum(delta_arr_c < i)/50000)\n",
    "    arr_f_x7 =  np.append(arr_f_x7, quad(integrand_Xi, 0, i, args = 7)[0])\n",
    "    arr_f_x9 =  np.append(arr_f_x9, quad(integrand_Xi, 0, i, args = 9)[0])"
   ]
  },
  {
   "cell_type": "code",
   "execution_count": 170,
   "id": "c5186278",
   "metadata": {},
   "outputs": [
    {
     "data": {
      "image/png": "[encoded data removed]",
      "text/plain": [
       "<Figure size 640x480 with 1 Axes>"
      ]
     },
     "metadata": {},
     "output_type": "display_data"
    }
   ],
   "source": [
    "plt.plot(np.arange(0,20), arr_f_с, label=\"normal\", color = 'red')\n",
    "plt.plot(np.arange(0,20), arr_f_x7, label = \"$X^2$ k = 7\", color = 'green')\n",
    "plt.plot(np.arange(0,20), arr_f_x9, label = \"$\\chi^2$ k = 9\", color = \"blue\")\n",
    "plt.title(\"Сравнение рсапределений\")\n",
    "plt.legend()\n",
    "plt.show()"
   ]
  },
  {
   "cell_type": "code",
   "execution_count": 36,
   "id": "1c0eb7c0",
   "metadata": {},
   "outputs": [
    {
     "data": {
      "text/plain": [
       "20"
      ]
     },
     "execution_count": 36,
     "metadata": {},
     "output_type": "execute_result"
    }
   ],
   "source": [
    "sum(delta_arr_c < 7)"
   ]
  },
  {
   "cell_type": "code",
   "execution_count": null,
   "id": "7354b1f4",
   "metadata": {},
   "outputs": [],
   "source": []
  }
 ],
 "metadata": {
  "kernelspec": {
   "display_name": "Python 3 (ipykernel)",
   "language": "python",
   "name": "python3"
  },
  "language_info": {
   "codemirror_mode": {
    "name": "ipython",
    "version": 3
   },
   "file_extension": ".py",
   "mimetype": "text/x-python",
   "name": "python",
   "nbconvert_exporter": "python",
   "pygments_lexer": "ipython3",
   "version": "3.11.5"
  }
 },
 "nbformat": 4,
 "nbformat_minor": 5
}
